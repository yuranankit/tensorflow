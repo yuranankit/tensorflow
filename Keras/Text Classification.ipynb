{
 "cells": [
  {
   "cell_type": "code",
   "execution_count": 1,
   "metadata": {},
   "outputs": [],
   "source": [
    "import tensorflow as tf\n",
    "from tensorflow import keras\n",
    "\n",
    "import numpy as np\n",
    "import matplotlib.pyplot as plt"
   ]
  },
  {
   "cell_type": "code",
   "execution_count": 2,
   "metadata": {},
   "outputs": [],
   "source": [
    "imdb = keras.datasets.imdb\n",
    "\n",
    "(train_data, train_labels), (test_data, test_labels) = imdb.load_data(num_words=10000)"
   ]
  },
  {
   "cell_type": "code",
   "execution_count": 3,
   "metadata": {},
   "outputs": [
    {
     "data": {
      "text/plain": [
       "25000"
      ]
     },
     "execution_count": 3,
     "metadata": {},
     "output_type": "execute_result"
    },
    {
     "data": {
      "text/plain": [
       "25000"
      ]
     },
     "execution_count": 3,
     "metadata": {},
     "output_type": "execute_result"
    },
    {
     "name": "stdout",
     "output_type": "stream",
     "text": [
      "[1, 14, 22, 16, 43, 530, 973, 1622, 1385, 65, 458, 4468, 66, 3941, 4, 173, 36, 256, 5, 25, 100, 43, 838, 112, 50, 670, 2, 9, 35, 480, 284, 5, 150, 4, 172, 112, 167, 2, 336, 385, 39, 4, 172, 4536, 1111, 17, 546, 38, 13, 447, 4, 192, 50, 16, 6, 147, 2025, 19, 14, 22, 4, 1920, 4613, 469, 4, 22, 71, 87, 12, 16, 43, 530, 38, 76, 15, 13, 1247, 4, 22, 17, 515, 17, 12, 16, 626, 18, 2, 5, 62, 386, 12, 8, 316, 8, 106, 5, 4, 2223, 5244, 16, 480, 66, 3785, 33, 4, 130, 12, 16, 38, 619, 5, 25, 124, 51, 36, 135, 48, 25, 1415, 33, 6, 22, 12, 215, 28, 77, 52, 5, 14, 407, 16, 82, 2, 8, 4, 107, 117, 5952, 15, 256, 4, 2, 7, 3766, 5, 723, 36, 71, 43, 530, 476, 26, 400, 317, 46, 7, 4, 2, 1029, 13, 104, 88, 4, 381, 15, 297, 98, 32, 2071, 56, 26, 141, 6, 194, 7486, 18, 4, 226, 22, 21, 134, 476, 26, 480, 5, 144, 30, 5535, 18, 51, 36, 28, 224, 92, 25, 104, 4, 226, 65, 16, 38, 1334, 88, 12, 16, 283, 5, 16, 4472, 113, 103, 32, 15, 16, 5345, 19, 178, 32]\n"
     ]
    }
   ],
   "source": [
    "len(train_data)\n",
    "len(train_labels)\n",
    "print(train_data[0])"
   ]
  },
  {
   "cell_type": "code",
   "execution_count": 4,
   "metadata": {},
   "outputs": [],
   "source": [
    "#Dictionary mapping words to integer index\n",
    "word_index = imdb.get_word_index()\n",
    "\n",
    "# The first indices are reserved\n",
    "word_index = {k:(v+3) for k,v in word_index.items()} \n",
    "word_index[\"<PAD>\"] = 0\n",
    "word_index[\"<START>\"] = 1\n",
    "word_index[\"<UNK>\"] = 2  # unknown\n",
    "word_index[\"<UNUSED>\"] = 3\n",
    "\n",
    "reverse_word_index = dict([(value, key) for (key, value) in word_index.items()])\n",
    "\n",
    "def decode_review(text):\n",
    "    return ' '.join([reverse_word_index.get(i, '?') for i in text])"
   ]
  },
  {
   "cell_type": "code",
   "execution_count": 5,
   "metadata": {},
   "outputs": [
    {
     "data": {
      "text/plain": [
       "\"<START> this film was just brilliant casting location scenery story direction everyone's really suited the part they played and you could just imagine being there robert <UNK> is an amazing actor and now the same being director <UNK> father came from the same scottish island as myself so i loved the fact there was a real connection with this film the witty remarks throughout the film were great it was just brilliant so much that i bought the film as soon as it was released for <UNK> and would recommend it to everyone to watch and the fly fishing was amazing really cried at the end it was so sad and you know what they say if you cry at a film it must have been good and this definitely was also <UNK> to the two little boy's that played the <UNK> of norman and paul they were just brilliant children are often left out of the <UNK> list i think because the stars that play them all grown up are such a big profile for the whole film but these children are amazing and should be praised for what they have done don't you think the whole story was so lovely because it was true and was someone's life after all that was shared with us all\""
      ]
     },
     "execution_count": 5,
     "metadata": {},
     "output_type": "execute_result"
    }
   ],
   "source": [
    "decode_review(train_data[0])"
   ]
  },
  {
   "cell_type": "code",
   "execution_count": 6,
   "metadata": {},
   "outputs": [
    {
     "data": {
      "text/plain": [
       "(256, 256)"
      ]
     },
     "execution_count": 6,
     "metadata": {},
     "output_type": "execute_result"
    },
    {
     "name": "stdout",
     "output_type": "stream",
     "text": [
      "[   1   14   22   16   43  530  973 1622 1385   65  458 4468   66 3941\n",
      "    4  173   36  256    5   25  100   43  838  112   50  670    2    9\n",
      "   35  480  284    5  150    4  172  112  167    2  336  385   39    4\n",
      "  172 4536 1111   17  546   38   13  447    4  192   50   16    6  147\n",
      " 2025   19   14   22    4 1920 4613  469    4   22   71   87   12   16\n",
      "   43  530   38   76   15   13 1247    4   22   17  515   17   12   16\n",
      "  626   18    2    5   62  386   12    8  316    8  106    5    4 2223\n",
      " 5244   16  480   66 3785   33    4  130   12   16   38  619    5   25\n",
      "  124   51   36  135   48   25 1415   33    6   22   12  215   28   77\n",
      "   52    5   14  407   16   82    2    8    4  107  117 5952   15  256\n",
      "    4    2    7 3766    5  723   36   71   43  530  476   26  400  317\n",
      "   46    7    4    2 1029   13  104   88    4  381   15  297   98   32\n",
      " 2071   56   26  141    6  194 7486   18    4  226   22   21  134  476\n",
      "   26  480    5  144   30 5535   18   51   36   28  224   92   25  104\n",
      "    4  226   65   16   38 1334   88   12   16  283    5   16 4472  113\n",
      "  103   32   15   16 5345   19  178   32    0    0    0    0    0    0\n",
      "    0    0    0    0    0    0    0    0    0    0    0    0    0    0\n",
      "    0    0    0    0    0    0    0    0    0    0    0    0    0    0\n",
      "    0    0    0    0]\n"
     ]
    }
   ],
   "source": [
    "#Adjust reviews lenght\n",
    "train_data = keras.preprocessing.sequence.pad_sequences(train_data,\n",
    "                                                        value=word_index[\"<PAD>\"],\n",
    "                                                        padding='post',\n",
    "                                                        maxlen=256)\n",
    "\n",
    "test_data = keras.preprocessing.sequence.pad_sequences(test_data,\n",
    "                                                       value=word_index[\"<PAD>\"],\n",
    "                                                       padding='post',\n",
    "                                                       maxlen=256)\n",
    "\n",
    "len(train_data[0]), len(train_data[1])\n",
    "print(train_data[0])"
   ]
  },
  {
   "cell_type": "code",
   "execution_count": 7,
   "metadata": {},
   "outputs": [
    {
     "name": "stdout",
     "output_type": "stream",
     "text": [
      "_________________________________________________________________\n",
      "Layer (type)                 Output Shape              Param #   \n",
      "=================================================================\n",
      "embedding (Embedding)        (None, None, 16)          160000    \n",
      "_________________________________________________________________\n",
      "global_average_pooling1d (Gl (None, 16)                0         \n",
      "_________________________________________________________________\n",
      "dense (Dense)                (None, 16)                272       \n",
      "_________________________________________________________________\n",
      "dense_1 (Dense)              (None, 1)                 17        \n",
      "=================================================================\n",
      "Total params: 160,289\n",
      "Trainable params: 160,289\n",
      "Non-trainable params: 0\n",
      "_________________________________________________________________\n"
     ]
    }
   ],
   "source": [
    "#Build model\n",
    "vocab_size = 10000\n",
    "model = keras.Sequential()\n",
    "model.add(keras.layers.Embedding(vocab_size, 16))\n",
    "model.add(keras.layers.GlobalAveragePooling1D())\n",
    "model.add(keras.layers.Dense(16, activation=tf.nn.relu))\n",
    "model.add(keras.layers.Dense(1, activation=tf.nn.sigmoid))\n",
    "\n",
    "model.summary()"
   ]
  },
  {
   "cell_type": "code",
   "execution_count": 8,
   "metadata": {},
   "outputs": [],
   "source": [
    "#Compile model\n",
    "model.compile(optimizer=tf.train.AdamOptimizer(),\n",
    "               loss='binary_crossentropy',\n",
    "               metrics=['accuracy'])"
   ]
  },
  {
   "cell_type": "code",
   "execution_count": 9,
   "metadata": {},
   "outputs": [],
   "source": [
    "#Cross-validation\n",
    "x_val = train_data[:10000]\n",
    "partial_x_train = train_data[10000:]\n",
    "\n",
    "y_val = train_labels[:10000]\n",
    "partial_y_train = train_labels[10000:]"
   ]
  },
  {
   "cell_type": "code",
   "execution_count": 10,
   "metadata": {},
   "outputs": [
    {
     "name": "stdout",
     "output_type": "stream",
     "text": [
      "Train on 15000 samples, validate on 10000 samples\n",
      "Epoch 1/40\n",
      "15000/15000 [==============================] - 1s 59us/step - loss: 0.6938 - acc: 0.5129 - val_loss: 0.6924 - val_acc: 0.5342\n",
      "Epoch 2/40\n",
      "15000/15000 [==============================] - 1s 46us/step - loss: 0.6908 - acc: 0.5375 - val_loss: 0.6899 - val_acc: 0.5423\n",
      "Epoch 3/40\n",
      "15000/15000 [==============================] - 1s 47us/step - loss: 0.6882 - acc: 0.5759 - val_loss: 0.6871 - val_acc: 0.6008\n",
      "Epoch 4/40\n",
      "15000/15000 [==============================] - 1s 47us/step - loss: 0.6843 - acc: 0.6536 - val_loss: 0.6836 - val_acc: 0.5748\n",
      "Epoch 5/40\n",
      "15000/15000 [==============================] - 1s 44us/step - loss: 0.6791 - acc: 0.6873 - val_loss: 0.6771 - val_acc: 0.7373\n",
      "Epoch 6/40\n",
      "15000/15000 [==============================] - 1s 45us/step - loss: 0.6716 - acc: 0.7522 - val_loss: 0.6691 - val_acc: 0.7355\n",
      "Epoch 7/40\n",
      "15000/15000 [==============================] - 1s 44us/step - loss: 0.6613 - acc: 0.7506 - val_loss: 0.6585 - val_acc: 0.7428\n",
      "Epoch 8/40\n",
      "15000/15000 [==============================] - 1s 46us/step - loss: 0.6473 - acc: 0.7615 - val_loss: 0.6444 - val_acc: 0.7461\n",
      "Epoch 9/40\n",
      "15000/15000 [==============================] - 1s 47us/step - loss: 0.6299 - acc: 0.7683 - val_loss: 0.6263 - val_acc: 0.7570\n",
      "Epoch 10/40\n",
      "15000/15000 [==============================] - 1s 45us/step - loss: 0.6085 - acc: 0.7827 - val_loss: 0.6054 - val_acc: 0.7690\n",
      "Epoch 11/40\n",
      "15000/15000 [==============================] - 1s 45us/step - loss: 0.5845 - acc: 0.7835 - val_loss: 0.5842 - val_acc: 0.7770\n",
      "Epoch 12/40\n",
      "15000/15000 [==============================] - 1s 44us/step - loss: 0.5584 - acc: 0.7991 - val_loss: 0.5583 - val_acc: 0.7878\n",
      "Epoch 13/40\n",
      "15000/15000 [==============================] - 1s 46us/step - loss: 0.5300 - acc: 0.8147 - val_loss: 0.5332 - val_acc: 0.7966\n",
      "Epoch 14/40\n",
      "15000/15000 [==============================] - 1s 45us/step - loss: 0.5017 - acc: 0.8261 - val_loss: 0.5076 - val_acc: 0.8106\n",
      "Epoch 15/40\n",
      "15000/15000 [==============================] - 1s 44us/step - loss: 0.4735 - acc: 0.8375 - val_loss: 0.4825 - val_acc: 0.8184\n",
      "Epoch 16/40\n",
      "15000/15000 [==============================] - 1s 45us/step - loss: 0.4473 - acc: 0.8453 - val_loss: 0.4596 - val_acc: 0.8286\n",
      "Epoch 17/40\n",
      "15000/15000 [==============================] - 1s 45us/step - loss: 0.4215 - acc: 0.8579 - val_loss: 0.4387 - val_acc: 0.8385\n",
      "Epoch 18/40\n",
      "15000/15000 [==============================] - 1s 45us/step - loss: 0.3986 - acc: 0.8660 - val_loss: 0.4195 - val_acc: 0.8437\n",
      "Epoch 19/40\n",
      "15000/15000 [==============================] - 1s 46us/step - loss: 0.3780 - acc: 0.8724 - val_loss: 0.4027 - val_acc: 0.8477\n",
      "Epoch 20/40\n",
      "15000/15000 [==============================] - 1s 44us/step - loss: 0.3594 - acc: 0.8782 - val_loss: 0.3880 - val_acc: 0.8526\n",
      "Epoch 21/40\n",
      "15000/15000 [==============================] - 1s 45us/step - loss: 0.3426 - acc: 0.8829 - val_loss: 0.3751 - val_acc: 0.8563\n",
      "Epoch 22/40\n",
      "15000/15000 [==============================] - 1s 44us/step - loss: 0.3276 - acc: 0.8888 - val_loss: 0.3639 - val_acc: 0.8602\n",
      "Epoch 23/40\n",
      "15000/15000 [==============================] - 1s 45us/step - loss: 0.3143 - acc: 0.8910 - val_loss: 0.3546 - val_acc: 0.8634\n",
      "Epoch 24/40\n",
      "15000/15000 [==============================] - 1s 46us/step - loss: 0.3018 - acc: 0.8949 - val_loss: 0.3457 - val_acc: 0.8672\n",
      "Epoch 25/40\n",
      "15000/15000 [==============================] - 1s 44us/step - loss: 0.2906 - acc: 0.8983 - val_loss: 0.3382 - val_acc: 0.8704\n",
      "Epoch 26/40\n",
      "15000/15000 [==============================] - 1s 44us/step - loss: 0.2803 - acc: 0.9009 - val_loss: 0.3318 - val_acc: 0.8712\n",
      "Epoch 27/40\n",
      "15000/15000 [==============================] - 1s 45us/step - loss: 0.2712 - acc: 0.9031 - val_loss: 0.3260 - val_acc: 0.8715\n",
      "Epoch 28/40\n",
      "15000/15000 [==============================] - 1s 45us/step - loss: 0.2620 - acc: 0.9066 - val_loss: 0.3204 - val_acc: 0.8737\n",
      "Epoch 29/40\n",
      "15000/15000 [==============================] - 1s 47us/step - loss: 0.2539 - acc: 0.9100 - val_loss: 0.3162 - val_acc: 0.8755\n",
      "Epoch 30/40\n",
      "15000/15000 [==============================] - 1s 45us/step - loss: 0.2469 - acc: 0.9116 - val_loss: 0.3119 - val_acc: 0.8773\n",
      "Epoch 31/40\n",
      "15000/15000 [==============================] - 1s 44us/step - loss: 0.2390 - acc: 0.9157 - val_loss: 0.3086 - val_acc: 0.8780\n",
      "Epoch 32/40\n",
      "15000/15000 [==============================] - 1s 48us/step - loss: 0.2327 - acc: 0.9175 - val_loss: 0.3053 - val_acc: 0.8798\n",
      "Epoch 33/40\n",
      "15000/15000 [==============================] - 1s 46us/step - loss: 0.2256 - acc: 0.9199 - val_loss: 0.3024 - val_acc: 0.8806\n",
      "Epoch 34/40\n",
      "15000/15000 [==============================] - 1s 46us/step - loss: 0.2196 - acc: 0.9225 - val_loss: 0.3003 - val_acc: 0.8802\n",
      "Epoch 35/40\n",
      "15000/15000 [==============================] - 1s 46us/step - loss: 0.2142 - acc: 0.9241 - val_loss: 0.2976 - val_acc: 0.8826\n",
      "Epoch 36/40\n",
      "15000/15000 [==============================] - 1s 45us/step - loss: 0.2081 - acc: 0.9266 - val_loss: 0.2957 - val_acc: 0.8823\n",
      "Epoch 37/40\n",
      "15000/15000 [==============================] - 1s 44us/step - loss: 0.2028 - acc: 0.9291 - val_loss: 0.2941 - val_acc: 0.8837\n",
      "Epoch 38/40\n",
      "15000/15000 [==============================] - 1s 45us/step - loss: 0.1978 - acc: 0.9307 - val_loss: 0.2925 - val_acc: 0.8839\n",
      "Epoch 39/40\n",
      "15000/15000 [==============================] - 1s 45us/step - loss: 0.1925 - acc: 0.9329 - val_loss: 0.2911 - val_acc: 0.8845\n",
      "Epoch 40/40\n",
      "15000/15000 [==============================] - 1s 44us/step - loss: 0.1878 - acc: 0.9341 - val_loss: 0.2899 - val_acc: 0.8849\n"
     ]
    }
   ],
   "source": [
    "#Train model\n",
    "history = model.fit(partial_x_train,\n",
    "                    partial_y_train,\n",
    "                    epochs=40,\n",
    "                    batch_size=512,\n",
    "                    validation_data=(x_val, y_val),\n",
    "                    verbose=1)"
   ]
  },
  {
   "cell_type": "code",
   "execution_count": 11,
   "metadata": {},
   "outputs": [
    {
     "name": "stdout",
     "output_type": "stream",
     "text": [
      "25000/25000 [==============================] - 0s 16us/step\n",
      "[0.3043365260696411, 0.87392]\n"
     ]
    }
   ],
   "source": [
    "#Evaluate model\n",
    "result = model.evaluate(test_data, test_labels)\n",
    "print(result)"
   ]
  },
  {
   "cell_type": "code",
   "execution_count": 12,
   "metadata": {},
   "outputs": [
    {
     "data": {
      "text/plain": [
       "dict_keys(['acc', 'val_loss', 'val_acc', 'loss'])"
      ]
     },
     "execution_count": 12,
     "metadata": {},
     "output_type": "execute_result"
    }
   ],
   "source": [
    "#Get training model log\n",
    "history_dict = history.history\n",
    "history_dict.keys()"
   ]
  },
  {
   "cell_type": "code",
   "execution_count": 17,
   "metadata": {},
   "outputs": [
    {
     "data": {
      "image/png": "[encoded data removed]",
      "text/plain": [
       "<Figure size 432x288 with 1 Axes>"
      ]
     },
     "metadata": {},
     "output_type": "display_data"
    },
    {
     "data": {
      "image/png": "[encoded data removed]",
      "text/plain": [
       "<Figure size 432x288 with 1 Axes>"
      ]
     },
     "metadata": {},
     "output_type": "display_data"
    }
   ],
   "source": [
    "#Plot accuracy vs loss\n",
    "acc = history_dict['acc']\n",
    "val_acc = history_dict['val_acc']\n",
    "loss = history_dict['loss']\n",
    "val_loss = history_dict['val_loss']\n",
    "\n",
    "epochs = range(1, len(acc) + 1)\n",
    "\n",
    "plt.plot(epochs, loss, 'ro', label='Training loss')\n",
    "plt.plot(epochs, val_loss, 'b', label='Validation loss')\n",
    "plt.title('Training and Validation loss')\n",
    "plt.xlabel('Epochs')\n",
    "plt.ylabel('Loss')\n",
    "plt.legend()\n",
    "plt.show();\n",
    "\n",
    "plt.plot(epochs, acc, 'ro', label='Training accuracy')\n",
    "plt.plot(epochs, val_acc, 'b', label='Validation accuracy')\n",
    "plt.title('Training and Validation accuracy')\n",
    "plt.xlabel('Epochs')\n",
    "plt.ylabel('Accuracy')\n",
    "plt.legend()\n",
    "plt.show();"
   ]
  }
 ],
 "metadata": {
  "kernelspec": {
   "display_name": "Python 3",
   "language": "python",
   "name": "python3"
  },
  "language_info": {
   "codemirror_mode": {
    "name": "ipython",
    "version": 3
   },
   "file_extension": ".py",
   "mimetype": "text/x-python",
   "name": "python",
   "nbconvert_exporter": "python",
   "pygments_lexer": "ipython3",
   "version": "3.5.5"
  }
 },
 "nbformat": 4,
 "nbformat_minor": 2
}
