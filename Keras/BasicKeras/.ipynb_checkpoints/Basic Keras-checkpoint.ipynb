{
 "cells": [
  {
   "cell_type": "code",
   "execution_count": 1,
   "metadata": {},
   "outputs": [],
   "source": [
    "import tensorflow as tf\n",
    "from tensorflow import keras\n",
    "\n",
    "import numpy as np\n"
   ]
  },
  {
   "cell_type": "code",
   "execution_count": 2,
   "metadata": {},
   "outputs": [],
   "source": [
    "#Create sample fully connected nn\n",
    "model = keras.Sequential()\n",
    "model.add(keras.layers.Dense(64, activation='relu'))\n",
    "model.add(keras.layers.Dense(64, activation='relu'))\n",
    "model.add(keras.layers.Dense(10, activation='softmax'))"
   ]
  },
  {
   "cell_type": "code",
   "execution_count": 3,
   "metadata": {},
   "outputs": [
    {
     "data": {
      "text/plain": [
       "<tensorflow.python.keras.layers.core.Dense at 0x1b4c862c9e8>"
      ]
     },
     "execution_count": 3,
     "metadata": {},
     "output_type": "execute_result"
    },
    {
     "data": {
      "text/plain": [
       "<tensorflow.python.keras.layers.core.Dense at 0x1b4c862c9b0>"
      ]
     },
     "execution_count": 3,
     "metadata": {},
     "output_type": "execute_result"
    },
    {
     "data": {
      "text/plain": [
       "<tensorflow.python.keras.layers.core.Dense at 0x1b4c862ce48>"
      ]
     },
     "execution_count": 3,
     "metadata": {},
     "output_type": "execute_result"
    },
    {
     "data": {
      "text/plain": [
       "<tensorflow.python.keras.layers.core.Dense at 0x1b4c863f160>"
      ]
     },
     "execution_count": 3,
     "metadata": {},
     "output_type": "execute_result"
    },
    {
     "data": {
      "text/plain": [
       "<tensorflow.python.keras.layers.core.Dense at 0x1b4c862ca20>"
      ]
     },
     "execution_count": 3,
     "metadata": {},
     "output_type": "execute_result"
    },
    {
     "data": {
      "text/plain": [
       "<tensorflow.python.keras.layers.core.Dense at 0x1b4c862cf98>"
      ]
     },
     "execution_count": 3,
     "metadata": {},
     "output_type": "execute_result"
    }
   ],
   "source": [
    "#Sigmod activation\n",
    "keras.layers.Dense(64, activation='sigmoid')\n",
    "#Or\n",
    "keras.layers.Dense(64, activation=tf.sigmoid)\n",
    "\n",
    "#Layer with L1 regularization to kernel matrix with no activition function\n",
    "keras.layers.Dense(64, kernel_regularizer=keras.regularizers.l1(0.01))\n",
    "#Layer with L2 regularization to bias vector with no activition function\n",
    "keras.layers.Dense(64, bias_regularizer=keras.regularizers.l2(0.01))\n",
    "\n",
    "#Layer with kernel initialized to random orthogonal matrix\n",
    "keras.layers.Dense(64, kernel_initializer='orthogonal')\n",
    "#Layer with bias vector initialized to 2.0\n",
    "keras.layers.Dense(64, bias_initializer=keras.initializers.constant(2.0))"
   ]
  },
  {
   "cell_type": "code",
   "execution_count": 4,
   "metadata": {},
   "outputs": [],
   "source": [
    "#Compile model\n",
    "#Compile ex1\n",
    "model.compile(\n",
    "    optimizer=tf.train.AdamOptimizer(0.001),\n",
    "    loss='categorical_crossentropy',\n",
    "    metrics=['accuracy']\n",
    ")\n",
    "\n",
    "#Compile ex2\n",
    "model.compile(\n",
    "    optimizer=tf.train.AdamOptimizer(0.01),\n",
    "    loss='mse',\n",
    "    metrics=['mae']\n",
    ")\n",
    "\n",
    "#Compile ex3\n",
    "model.compile(\n",
    "    optimizer=tf.train.RMSPropOptimizer(0.01),\n",
    "    loss=keras.losses.categorical_crossentropy,\n",
    "    metrics=[keras.metrics.categorical_accuracy]\n",
    ")"
   ]
  },
  {
   "cell_type": "code",
   "execution_count": 5,
   "metadata": {},
   "outputs": [
    {
     "name": "stdout",
     "output_type": "stream",
     "text": [
      "Epoch 1/10\n",
      "1000/1000 [==============================] - 0s 150us/step - loss: 11.5812 - categorical_accuracy: 0.0990\n",
      "Epoch 2/10\n",
      "1000/1000 [==============================] - 0s 31us/step - loss: 11.5545 - categorical_accuracy: 0.1100\n",
      "Epoch 3/10\n",
      "1000/1000 [==============================] - 0s 31us/step - loss: 11.5428 - categorical_accuracy: 0.1160\n",
      "Epoch 4/10\n",
      "1000/1000 [==============================] - 0s 47us/step - loss: 11.5349 - categorical_accuracy: 0.1110\n",
      "Epoch 5/10\n",
      "1000/1000 [==============================] - 0s 16us/step - loss: 11.5304 - categorical_accuracy: 0.0910\n",
      "Epoch 6/10\n",
      "1000/1000 [==============================] - 0s 16us/step - loss: 11.5291 - categorical_accuracy: 0.1060\n",
      "Epoch 7/10\n",
      "1000/1000 [==============================] - 0s 31us/step - loss: 11.5297 - categorical_accuracy: 0.1280\n",
      "Epoch 8/10\n",
      "1000/1000 [==============================] - 0s 31us/step - loss: 11.5252 - categorical_accuracy: 0.1140\n",
      "Epoch 9/10\n",
      "1000/1000 [==============================] - 0s 31us/step - loss: 11.5237 - categorical_accuracy: 0.1210\n",
      "Epoch 10/10\n",
      "1000/1000 [==============================] - 0s 31us/step - loss: 11.5194 - categorical_accuracy: 0.1300\n"
     ]
    },
    {
     "data": {
      "text/plain": [
       "<tensorflow.python.keras.callbacks.History at 0x1b4c85fb1d0>"
      ]
     },
     "execution_count": 5,
     "metadata": {},
     "output_type": "execute_result"
    }
   ],
   "source": [
    "#Sample test data\n",
    "data = np.random.random((1000, 32))\n",
    "labels = np.random.random((1000, 10))\n",
    "\n",
    "model.fit(data,\n",
    "          labels,\n",
    "          epochs=10,\n",
    "          batch_size=32\n",
    "         )"
   ]
  },
  {
   "cell_type": "code",
   "execution_count": 6,
   "metadata": {},
   "outputs": [
    {
     "name": "stdout",
     "output_type": "stream",
     "text": [
      "Train on 1000 samples, validate on 1000 samples\n",
      "Epoch 1/10\n",
      "1000/1000 [==============================] - 0s 78us/step - loss: 11.5147 - categorical_accuracy: 0.1440 - val_loss: 11.5013 - val_categorical_accuracy: 0.1050\n",
      "Epoch 2/10\n",
      "1000/1000 [==============================] - 0s 31us/step - loss: 11.5143 - categorical_accuracy: 0.1360 - val_loss: 11.4768 - val_categorical_accuracy: 0.1080\n",
      "Epoch 3/10\n",
      "1000/1000 [==============================] - 0s 31us/step - loss: 11.5013 - categorical_accuracy: 0.1530 - val_loss: 11.4847 - val_categorical_accuracy: 0.1210\n",
      "Epoch 4/10\n",
      "1000/1000 [==============================] - 0s 47us/step - loss: 11.4976 - categorical_accuracy: 0.1430 - val_loss: 11.5591 - val_categorical_accuracy: 0.1090\n",
      "Epoch 5/10\n",
      "1000/1000 [==============================] - 0s 31us/step - loss: 11.4908 - categorical_accuracy: 0.1770 - val_loss: 11.5383 - val_categorical_accuracy: 0.0960\n",
      "Epoch 6/10\n",
      "1000/1000 [==============================] - 0s 36us/step - loss: 11.4781 - categorical_accuracy: 0.1730 - val_loss: 11.5389 - val_categorical_accuracy: 0.0990\n",
      "Epoch 7/10\n",
      "1000/1000 [==============================] - 0s 47us/step - loss: 11.4683 - categorical_accuracy: 0.1870 - val_loss: 11.5238 - val_categorical_accuracy: 0.1140\n",
      "Epoch 8/10\n",
      "1000/1000 [==============================] - 0s 31us/step - loss: 11.4685 - categorical_accuracy: 0.1960 - val_loss: 11.5357 - val_categorical_accuracy: 0.1070\n",
      "Epoch 9/10\n",
      "1000/1000 [==============================] - 0s 31us/step - loss: 11.4509 - categorical_accuracy: 0.1890 - val_loss: 11.5780 - val_categorical_accuracy: 0.0940\n",
      "Epoch 10/10\n",
      "1000/1000 [==============================] - 0s 47us/step - loss: 11.4434 - categorical_accuracy: 0.1990 - val_loss: 11.6686 - val_categorical_accuracy: 0.0990\n"
     ]
    },
    {
     "data": {
      "text/plain": [
       "<tensorflow.python.keras.callbacks.History at 0x1b4c8619780>"
      ]
     },
     "execution_count": 6,
     "metadata": {},
     "output_type": "execute_result"
    },
    {
     "name": "stdout",
     "output_type": "stream",
     "text": [
      "Train on 800 samples, validate on 200 samples\n",
      "Epoch 1/10\n",
      "800/800 [==============================] - 0s 39us/step - loss: 11.5014 - categorical_accuracy: 0.2050 - val_loss: 11.2362 - val_categorical_accuracy: 0.1700\n",
      "Epoch 2/10\n",
      "800/800 [==============================] - 0s 39us/step - loss: 11.4748 - categorical_accuracy: 0.1913 - val_loss: 11.2254 - val_categorical_accuracy: 0.2150\n",
      "Epoch 3/10\n",
      "800/800 [==============================] - 0s 39us/step - loss: 11.4650 - categorical_accuracy: 0.2188 - val_loss: 11.2450 - val_categorical_accuracy: 0.1400\n",
      "Epoch 4/10\n",
      "800/800 [==============================] - 0s 39us/step - loss: 11.4517 - categorical_accuracy: 0.2250 - val_loss: 11.2386 - val_categorical_accuracy: 0.2150\n",
      "Epoch 5/10\n",
      "800/800 [==============================] - 0s 39us/step - loss: 11.4357 - categorical_accuracy: 0.2363 - val_loss: 11.2525 - val_categorical_accuracy: 0.1750\n",
      "Epoch 6/10\n",
      "800/800 [==============================] - 0s 39us/step - loss: 11.4350 - categorical_accuracy: 0.2300 - val_loss: 11.2632 - val_categorical_accuracy: 0.1550\n",
      "Epoch 7/10\n",
      "800/800 [==============================] - 0s 39us/step - loss: 11.4137 - categorical_accuracy: 0.2363 - val_loss: 11.2854 - val_categorical_accuracy: 0.1300\n",
      "Epoch 8/10\n",
      "800/800 [==============================] - 0s 20us/step - loss: 11.4053 - categorical_accuracy: 0.2387 - val_loss: 11.3334 - val_categorical_accuracy: 0.1650\n",
      "Epoch 9/10\n",
      "800/800 [==============================] - 0s 52us/step - loss: 11.4009 - categorical_accuracy: 0.2363 - val_loss: 11.3134 - val_categorical_accuracy: 0.1300\n",
      "Epoch 10/10\n",
      "800/800 [==============================] - 0s 25us/step - loss: 11.3896 - categorical_accuracy: 0.2650 - val_loss: 11.3389 - val_categorical_accuracy: 0.1200\n"
     ]
    },
    {
     "data": {
      "text/plain": [
       "<tensorflow.python.keras.callbacks.History at 0x1b4c862cac8>"
      ]
     },
     "execution_count": 6,
     "metadata": {},
     "output_type": "execute_result"
    }
   ],
   "source": [
    "#Sample validation data\n",
    "val_data = np.random.random((1000, 32))\n",
    "val_labels = np.random.random((1000, 10))\n",
    "\n",
    "#Validate with validation data set\n",
    "model.fit(\n",
    "    data,\n",
    "    labels,\n",
    "    epochs=10,\n",
    "    batch_size=32,\n",
    "    validation_data=(val_data, val_labels)\n",
    ")\n",
    "\n",
    "#Validate with extracted data from training set\n",
    "model.fit(\n",
    "    data,\n",
    "    labels,\n",
    "    epochs=10,\n",
    "    batch_size=32,\n",
    "    validation_split=.2\n",
    ")"
   ]
  },
  {
   "cell_type": "code",
   "execution_count": 7,
   "metadata": {},
   "outputs": [
    {
     "name": "stdout",
     "output_type": "stream",
     "text": [
      "Epoch 1/10\n",
      "30/30 [==============================] - 0s 4ms/step - loss: 11.4021 - categorical_accuracy: 0.2469\n",
      "Epoch 2/10\n",
      "30/30 [==============================] - 0s 1ms/step - loss: 11.2967 - categorical_accuracy: 0.2333\n",
      "Epoch 3/10\n",
      "30/30 [==============================] - 0s 521us/step - loss: 11.3167 - categorical_accuracy: 0.2677\n",
      "Epoch 4/10\n",
      "30/30 [==============================] - 0s 1ms/step - loss: 11.2975 - categorical_accuracy: 0.2802\n",
      "Epoch 5/10\n",
      "30/30 [==============================] - 0s 521us/step - loss: 11.2981 - categorical_accuracy: 0.2708\n",
      "Epoch 6/10\n",
      "30/30 [==============================] - 0s 1ms/step - loss: 11.2891 - categorical_accuracy: 0.2729\n",
      "Epoch 7/10\n",
      "30/30 [==============================] - 0s 2ms/step - loss: 11.2770 - categorical_accuracy: 0.2792\n",
      "Epoch 8/10\n",
      "30/30 [==============================] - 0s 1ms/step - loss: 11.2275 - categorical_accuracy: 0.2833\n",
      "Epoch 9/10\n",
      "30/30 [==============================] - 0s 521us/step - loss: 11.2392 - categorical_accuracy: 0.2906\n",
      "Epoch 10/10\n",
      "30/30 [==============================] - 0s 521us/step - loss: 11.2739 - categorical_accuracy: 0.2802\n"
     ]
    },
    {
     "data": {
      "text/plain": [
       "<tensorflow.python.keras.callbacks.History at 0x1b4c8a319e8>"
      ]
     },
     "execution_count": 7,
     "metadata": {},
     "output_type": "execute_result"
    }
   ],
   "source": [
    "#Instantiate dataset from datset api\n",
    "dataset = tf.data.Dataset.from_tensor_slices((data, labels))\n",
    "dataset = dataset.batch(32)\n",
    "dataset = dataset.repeat()\n",
    "\n",
    "#Train dataset\n",
    "model.fit(\n",
    "    dataset,\n",
    "    epochs=10,\n",
    "    steps_per_epoch=30\n",
    ")"
   ]
  },
  {
   "cell_type": "code",
   "execution_count": 8,
   "metadata": {},
   "outputs": [
    {
     "name": "stdout",
     "output_type": "stream",
     "text": [
      "Epoch 1/10\n",
      "30/30 [==============================] - 0s 5ms/step - loss: 11.3282 - categorical_accuracy: 0.2823 - val_loss: 11.7250 - val_categorical_accuracy: 0.1042\n",
      "Epoch 2/10\n",
      "30/30 [==============================] - 0s 1ms/step - loss: 11.2195 - categorical_accuracy: 0.2937 - val_loss: 11.8836 - val_categorical_accuracy: 0.1562\n",
      "Epoch 3/10\n",
      "30/30 [==============================] - 0s 1ms/step - loss: 11.2465 - categorical_accuracy: 0.2781 - val_loss: 11.8134 - val_categorical_accuracy: 0.0938\n",
      "Epoch 4/10\n",
      "30/30 [==============================] - 0s 1ms/step - loss: 11.2293 - categorical_accuracy: 0.3021 - val_loss: 11.6958 - val_categorical_accuracy: 0.1146\n",
      "Epoch 5/10\n",
      "30/30 [==============================] - 0s 1ms/step - loss: 11.2317 - categorical_accuracy: 0.2698 - val_loss: 11.9427 - val_categorical_accuracy: 0.1354\n",
      "Epoch 6/10\n",
      "30/30 [==============================] - 0s 1ms/step - loss: 11.2290 - categorical_accuracy: 0.2844 - val_loss: 11.5693 - val_categorical_accuracy: 0.1146\n",
      "Epoch 7/10\n",
      "30/30 [==============================] - 0s 1ms/step - loss: 11.2147 - categorical_accuracy: 0.3187 - val_loss: 12.0880 - val_categorical_accuracy: 0.1146\n",
      "Epoch 8/10\n",
      "30/30 [==============================] - 0s 1ms/step - loss: 11.1779 - categorical_accuracy: 0.2865 - val_loss: 11.4592 - val_categorical_accuracy: 0.0729\n",
      "Epoch 9/10\n",
      "30/30 [==============================] - 0s 1ms/step - loss: 11.1932 - categorical_accuracy: 0.3104 - val_loss: 11.6160 - val_categorical_accuracy: 0.0729\n",
      "Epoch 10/10\n",
      "30/30 [==============================] - 0s 1ms/step - loss: 11.2279 - categorical_accuracy: 0.3104 - val_loss: 12.2890 - val_categorical_accuracy: 0.0521\n"
     ]
    },
    {
     "data": {
      "text/plain": [
       "<tensorflow.python.keras.callbacks.History at 0x1b4c89f7a20>"
      ]
     },
     "execution_count": 8,
     "metadata": {},
     "output_type": "execute_result"
    }
   ],
   "source": [
    "#Validation\n",
    "dataset = tf.data.Dataset.from_tensor_slices((data, labels))\n",
    "dataset = dataset.batch(32).repeat()\n",
    "\n",
    "val_dataset = tf.data.Dataset.from_tensor_slices((val_data, val_labels))\n",
    "val_dataset = val_dataset.batch(32).repeat()\n",
    "\n",
    "model.fit(\n",
    "    dataset,\n",
    "    epochs=10,\n",
    "    steps_per_epoch=30,\n",
    "    validation_data=val_dataset,\n",
    "    validation_steps=3\n",
    ")"
   ]
  },
  {
   "cell_type": "code",
   "execution_count": 9,
   "metadata": {},
   "outputs": [
    {
     "name": "stdout",
     "output_type": "stream",
     "text": [
      "1000/1000 [==============================] - ETA:  - 0s 47us/step\n"
     ]
    },
    {
     "data": {
      "text/plain": [
       "[11.293208587646484, 0.286]"
      ]
     },
     "execution_count": 9,
     "metadata": {},
     "output_type": "execute_result"
    },
    {
     "name": "stdout",
     "output_type": "stream",
     "text": [
      "30/30 [==============================] - 0s 2ms/step\n"
     ]
    },
    {
     "data": {
      "text/plain": [
       "[11.330970350901286, 0.28541666666666665]"
      ]
     },
     "execution_count": 9,
     "metadata": {},
     "output_type": "execute_result"
    }
   ],
   "source": [
    "#Evaluate with numpy\n",
    "model.evaluate(data, labels, batch_size=32)\n",
    "\n",
    "#Evaluate with dataset\n",
    "model.evaluate(dataset, steps=30)"
   ]
  },
  {
   "cell_type": "code",
   "execution_count": 10,
   "metadata": {},
   "outputs": [
    {
     "data": {
      "text/plain": [
       "array([[0.05471127, 0.10533886, 0.10868876, ..., 0.08092158, 0.12424612,\n",
       "        0.12366012],\n",
       "       [0.09397509, 0.1066564 , 0.08655301, ..., 0.07830041, 0.09173635,\n",
       "        0.11836974],\n",
       "       [0.05225822, 0.06867668, 0.15236497, ..., 0.10784044, 0.17481165,\n",
       "        0.03688905],\n",
       "       ...,\n",
       "       [0.09318449, 0.04334643, 0.13171454, ..., 0.14718615, 0.07502284,\n",
       "        0.11840584],\n",
       "       [0.05567857, 0.03356125, 0.01262103, ..., 0.19119999, 0.14503713,\n",
       "        0.06676095],\n",
       "       [0.03249653, 0.09649584, 0.09762643, ..., 0.09513967, 0.13864833,\n",
       "        0.07380076]], dtype=float32)"
      ]
     },
     "execution_count": 10,
     "metadata": {},
     "output_type": "execute_result"
    },
    {
     "data": {
      "text/plain": [
       "array([[0.05471127, 0.10533886, 0.10868876, ..., 0.08092158, 0.12424612,\n",
       "        0.12366012],\n",
       "       [0.09397509, 0.1066564 , 0.08655301, ..., 0.07830041, 0.09173635,\n",
       "        0.11836974],\n",
       "       [0.05225822, 0.06867668, 0.15236497, ..., 0.10784044, 0.17481165,\n",
       "        0.03688905],\n",
       "       ...,\n",
       "       [0.06793209, 0.10657186, 0.11567938, ..., 0.1261944 , 0.0840559 ,\n",
       "        0.08917975],\n",
       "       [0.10194021, 0.09465788, 0.09019937, ..., 0.10893083, 0.12796335,\n",
       "        0.09007794],\n",
       "       [0.12330541, 0.18523175, 0.07602461, ..., 0.09834282, 0.09047277,\n",
       "        0.08375   ]], dtype=float32)"
      ]
     },
     "execution_count": 10,
     "metadata": {},
     "output_type": "execute_result"
    }
   ],
   "source": [
    "#Predict with numpy\n",
    "model.predict(data, batch_size=32)\n",
    "\n",
    "#Predict with dataset\n",
    "model.predict(dataset, steps=30)"
   ]
  },
  {
   "cell_type": "code",
   "execution_count": 11,
   "metadata": {},
   "outputs": [
    {
     "name": "stdout",
     "output_type": "stream",
     "text": [
      "_________________________________________________________________\n",
      "Layer (type)                 Output Shape              Param #   \n",
      "=================================================================\n",
      "input_1 (InputLayer)         (None, 32)                0         \n",
      "_________________________________________________________________\n",
      "dense_9 (Dense)              (None, 64)                2112      \n",
      "_________________________________________________________________\n",
      "dense_10 (Dense)             (None, 64)                4160      \n",
      "_________________________________________________________________\n",
      "dense_11 (Dense)             (None, 10)                650       \n",
      "=================================================================\n",
      "Total params: 6,922\n",
      "Trainable params: 6,922\n",
      "Non-trainable params: 0\n",
      "_________________________________________________________________\n",
      "Epoch 1/5\n",
      "1000/1000 [==============================] - 0s 188us/step - loss: 11.6361 - acc: 0.1110\n",
      "Epoch 2/5\n",
      "1000/1000 [==============================] - 0s 31us/step - loss: 11.5787 - acc: 0.1170\n",
      "Epoch 3/5\n",
      "1000/1000 [==============================] - 0s 31us/step - loss: 11.5442 - acc: 0.1230\n",
      "Epoch 4/5\n",
      "1000/1000 [==============================] - 0s 31us/step - loss: 11.5381 - acc: 0.1150\n",
      "Epoch 5/5\n",
      "1000/1000 [==============================] - 0s 31us/step - loss: 11.5304 - acc: 0.1200\n"
     ]
    },
    {
     "data": {
      "text/plain": [
       "<tensorflow.python.keras.callbacks.History at 0x1b4c89cde48>"
      ]
     },
     "execution_count": 11,
     "metadata": {},
     "output_type": "execute_result"
    }
   ],
   "source": [
    "#Model from Functional API\n",
    "inputs = keras.Input(shape=(32, ))\n",
    "\n",
    "#Layer instance is callable on a tensor and returns a tensor\n",
    "x = keras.layers.Dense(64, activation='relu')(inputs)\n",
    "x = keras.layers.Dense(64, activation='relu')(x)\n",
    "predictions = keras.layers.Dense(10, activation='softmax')(x)\n",
    "\n",
    "#Instantiate model\n",
    "model = keras.Model(inputs=inputs, outputs=predictions)\n",
    "\n",
    "#Compile model\n",
    "model.compile(\n",
    "    optimizer=tf.train.RMSPropOptimizer(0.001),\n",
    "    loss='categorical_crossentropy',\n",
    "    metrics=['accuracy']\n",
    ")\n",
    "\n",
    "model.summary()\n",
    "\n",
    "#Train model\n",
    "model.fit(\n",
    "    data,\n",
    "    labels,\n",
    "    epochs=5,\n",
    "    batch_size=32\n",
    ")"
   ]
  },
  {
   "cell_type": "code",
   "execution_count": 12,
   "metadata": {},
   "outputs": [
    {
     "name": "stdout",
     "output_type": "stream",
     "text": [
      "Epoch 1/5\n",
      "1000/1000 [==============================] - 0s 187us/step - loss: 11.6704 - acc: 0.0940\n",
      "Epoch 2/5\n",
      "1000/1000 [==============================] - 0s 16us/step - loss: 11.6155 - acc: 0.1100\n",
      "Epoch 3/5\n",
      "1000/1000 [==============================] - 0s 31us/step - loss: 11.5647 - acc: 0.1050\n",
      "Epoch 4/5\n",
      "1000/1000 [==============================] - 0s 16us/step - loss: 11.5479 - acc: 0.0970\n",
      "Epoch 5/5\n",
      "1000/1000 [==============================] - 0s 31us/step - loss: 11.5416 - acc: 0.1020\n"
     ]
    },
    {
     "data": {
      "text/plain": [
       "<tensorflow.python.keras.callbacks.History at 0x1b4c8a30860>"
      ]
     },
     "execution_count": 12,
     "metadata": {},
     "output_type": "execute_result"
    }
   ],
   "source": [
    "#Model subclassing\n",
    "class MyModel(keras.Model):\n",
    "    def __init__(self, num_classes=10):\n",
    "        super(MyModel, self).__init__(name='my_model')\n",
    "        self.num_classes = num_classes\n",
    "        #Define layers\n",
    "        self.dense_1 = keras.layers.Dense(32, activation='relu')\n",
    "        self.dense_2 = keras.layers.Dense(num_classes, activation='sigmoid')\n",
    "        \n",
    "    def call(self, inputs):\n",
    "        #Define forward pass\n",
    "        #Using layers in __init__\n",
    "        x = self.dense_1(inputs)\n",
    "        return self.dense_2(x)\n",
    "    \n",
    "    def compute_output_shapre(self, input_shape):\n",
    "        #Override for use as part of a functional-style model\n",
    "        shape = tf.TensorShape(input_shape).as_list()\n",
    "        shape[-1] = self.num_classes\n",
    "        return tf.TensorShape(shape)\n",
    "    \n",
    "#INstantiates subclassed model\n",
    "model = MyModel(num_classes=10)\n",
    "\n",
    "#Compile subclassed model\n",
    "model.compile(\n",
    "    optimizer=tf.train.RMSPropOptimizer(0.001),\n",
    "    loss='categorical_crossentropy',\n",
    "    metrics=['accuracy']\n",
    ")\n",
    "\n",
    "#Fit model\n",
    "model.fit(\n",
    "    data,\n",
    "    labels,\n",
    "    epochs=5,\n",
    "    batch_size=32\n",
    ")"
   ]
  },
  {
   "cell_type": "code",
   "execution_count": 13,
   "metadata": {},
   "outputs": [
    {
     "name": "stdout",
     "output_type": "stream",
     "text": [
      "Epoch 1/5\n",
      "1000/1000 [==============================] - 0s 156us/step - loss: 13.5085 - acc: 0.1040\n",
      "Epoch 2/5\n",
      "1000/1000 [==============================] - 0s 16us/step - loss: 12.7683 - acc: 0.1090\n",
      "Epoch 3/5\n",
      "1000/1000 [==============================] - 0s 16us/step - loss: 12.2082 - acc: 0.1050\n",
      "Epoch 4/5\n",
      "1000/1000 [==============================] - 0s 31us/step - loss: 12.0153 - acc: 0.1110\n",
      "Epoch 5/5\n",
      "1000/1000 [==============================] - 0s 16us/step - loss: 11.9734 - acc: 0.1110\n"
     ]
    },
    {
     "data": {
      "text/plain": [
       "<tensorflow.python.keras.callbacks.History at 0x1b4c89ff9b0>"
      ]
     },
     "execution_count": 13,
     "metadata": {},
     "output_type": "execute_result"
    },
    {
     "name": "stdout",
     "output_type": "stream",
     "text": [
      "_________________________________________________________________\n",
      "Layer (type)                 Output Shape              Param #   \n",
      "=================================================================\n",
      "my_layer (MyLayer)           (None, 10)                320       \n",
      "_________________________________________________________________\n",
      "activation (Activation)      (None, 10)                0         \n",
      "=================================================================\n",
      "Total params: 320\n",
      "Trainable params: 320\n",
      "Non-trainable params: 0\n",
      "_________________________________________________________________\n"
     ]
    }
   ],
   "source": [
    "#Custom Layers\n",
    "class MyLayer(keras.layers.Layer):\n",
    "    def __init__(self, output_dim, **kwargs):\n",
    "        self.output_dim = output_dim\n",
    "        super(MyLayer, self).__init__(**kwargs)\n",
    "        \n",
    "    def build(self, input_shape):\n",
    "        shape = tf.TensorShape((input_shape[1], self.output_dim))\n",
    "        #Create a trainable weight variable for this layer\n",
    "        self.kernel = self.add_weight(name='kernel',\n",
    "                                      shape=shape,\n",
    "                                      initializer='uniform',\n",
    "                                      trainable=True\n",
    "                                     )\n",
    "        super(MyLayer, self).build(input_shape)\n",
    "        \n",
    "    def call(self, inputs):\n",
    "        return tf.matmul(inputs, self.kernel)\n",
    "    \n",
    "    def compute_output_shape(self, input_shape):\n",
    "        shape = tf.TensorShape(input_shape).as_list()\n",
    "        shape[-1] = self.output_dim\n",
    "        return tf.TensorShape(shape)\n",
    "    \n",
    "    def get_config(self):\n",
    "        base_config = super(MyLayer, self).get_config()\n",
    "        base_config['output_dim'] = self.output_dim\n",
    "        \n",
    "    @classmethod\n",
    "    def from_config(cls, config):\n",
    "        return cls(**config)\n",
    "    \n",
    "#Create model with custom layer\n",
    "model = keras.Sequential([\n",
    "    MyLayer(10),\n",
    "    keras.layers.Activation('softmax')\n",
    "])\n",
    "\n",
    "#Compile\n",
    "model.compile(\n",
    "    optimizer=tf.train.RMSPropOptimizer(0.001),\n",
    "    loss='categorical_crossentropy',\n",
    "    metrics=['accuracy']\n",
    ")\n",
    "\n",
    "#Train\n",
    "model.fit(\n",
    "    data,\n",
    "    labels,\n",
    "    epochs=5,\n",
    "    batch_size=32\n",
    ")\n",
    "\n",
    "model.summary()"
   ]
  },
  {
   "cell_type": "code",
   "execution_count": 14,
   "metadata": {},
   "outputs": [
    {
     "name": "stdout",
     "output_type": "stream",
     "text": [
      "Train on 1000 samples, validate on 1000 samples\n",
      "Epoch 1/50\n",
      "1000/1000 [==============================] - 0s 63us/step - loss: 11.9450 - acc: 0.1120 - val_loss: 11.8653 - val_acc: 0.0940\n",
      "Epoch 2/50\n",
      "1000/1000 [==============================] - 0s 31us/step - loss: 11.9179 - acc: 0.1080 - val_loss: 11.8411 - val_acc: 0.0950\n",
      "Epoch 3/50\n",
      "1000/1000 [==============================] - 0s 31us/step - loss: 11.8915 - acc: 0.1090 - val_loss: 11.8163 - val_acc: 0.0940\n",
      "Epoch 4/50\n",
      "1000/1000 [==============================] - 0s 31us/step - loss: 11.8665 - acc: 0.1160 - val_loss: 11.7934 - val_acc: 0.0900\n",
      "Epoch 5/50\n",
      "1000/1000 [==============================] - 0s 31us/step - loss: 11.8423 - acc: 0.1110 - val_loss: 11.7711 - val_acc: 0.0930\n",
      "Epoch 6/50\n",
      "1000/1000 [==============================] - 0s 31us/step - loss: 11.8192 - acc: 0.1150 - val_loss: 11.7503 - val_acc: 0.0940\n",
      "Epoch 7/50\n",
      "1000/1000 [==============================] - 0s 47us/step - loss: 11.7986 - acc: 0.1060 - val_loss: 11.7356 - val_acc: 0.0960\n",
      "Epoch 8/50\n",
      "1000/1000 [==============================] - 0s 31us/step - loss: 11.7786 - acc: 0.1130 - val_loss: 11.7174 - val_acc: 0.0910\n",
      "Epoch 9/50\n",
      "1000/1000 [==============================] - 0s 31us/step - loss: 11.7604 - acc: 0.1110 - val_loss: 11.6984 - val_acc: 0.0910\n",
      "Epoch 10/50\n",
      "1000/1000 [==============================] - 0s 31us/step - loss: 11.7427 - acc: 0.1130 - val_loss: 11.6847 - val_acc: 0.0940\n",
      "Epoch 11/50\n",
      "1000/1000 [==============================] - 0s 31us/step - loss: 11.7266 - acc: 0.1140 - val_loss: 11.6709 - val_acc: 0.0950\n",
      "Epoch 12/50\n",
      "1000/1000 [==============================] - 0s 35us/step - loss: 11.7118 - acc: 0.1140 - val_loss: 11.6551 - val_acc: 0.1020\n",
      "Epoch 13/50\n",
      "1000/1000 [==============================] - 0s 47us/step - loss: 11.6967 - acc: 0.1030 - val_loss: 11.6437 - val_acc: 0.0910\n",
      "Epoch 14/50\n",
      "1000/1000 [==============================] - 0s 31us/step - loss: 11.6833 - acc: 0.1080 - val_loss: 11.6290 - val_acc: 0.0910\n",
      "Epoch 15/50\n",
      "1000/1000 [==============================] - 0s 31us/step - loss: 11.6708 - acc: 0.1090 - val_loss: 11.6202 - val_acc: 0.1000\n",
      "Epoch 16/50\n",
      "1000/1000 [==============================] - 0s 31us/step - loss: 11.6585 - acc: 0.1110 - val_loss: 11.6083 - val_acc: 0.1010\n",
      "Epoch 17/50\n",
      "1000/1000 [==============================] - 0s 31us/step - loss: 11.6480 - acc: 0.1090 - val_loss: 11.5969 - val_acc: 0.0990\n",
      "Epoch 18/50\n",
      "1000/1000 [==============================] - 0s 31us/step - loss: 11.6376 - acc: 0.1130 - val_loss: 11.5892 - val_acc: 0.0910\n",
      "Epoch 19/50\n",
      "1000/1000 [==============================] - 0s 31us/step - loss: 11.6279 - acc: 0.1080 - val_loss: 11.5815 - val_acc: 0.0960\n",
      "Epoch 20/50\n",
      "1000/1000 [==============================] - 0s 47us/step - loss: 11.6192 - acc: 0.1070 - val_loss: 11.5727 - val_acc: 0.0960\n",
      "Epoch 21/50\n",
      "1000/1000 [==============================] - 0s 37us/step - loss: 11.6104 - acc: 0.1080 - val_loss: 11.5665 - val_acc: 0.0980\n",
      "Epoch 22/50\n",
      "1000/1000 [==============================] - 0s 31us/step - loss: 11.6031 - acc: 0.1090 - val_loss: 11.5612 - val_acc: 0.0960\n",
      "Epoch 23/50\n",
      "1000/1000 [==============================] - 0s 31us/step - loss: 11.5956 - acc: 0.1090 - val_loss: 11.5522 - val_acc: 0.0980\n",
      "Epoch 24/50\n",
      "1000/1000 [==============================] - 0s 31us/step - loss: 11.5889 - acc: 0.1130 - val_loss: 11.5462 - val_acc: 0.0950\n",
      "Epoch 25/50\n",
      "1000/1000 [==============================] - 0s 31us/step - loss: 11.5819 - acc: 0.1180 - val_loss: 11.5428 - val_acc: 0.0870\n",
      "Epoch 26/50\n",
      "1000/1000 [==============================] - 0s 31us/step - loss: 11.5760 - acc: 0.1180 - val_loss: 11.5354 - val_acc: 0.0920\n",
      "Epoch 27/50\n",
      "1000/1000 [==============================] - 0s 31us/step - loss: 11.5706 - acc: 0.1260 - val_loss: 11.5335 - val_acc: 0.0950\n",
      "Epoch 28/50\n",
      "1000/1000 [==============================] - 0s 31us/step - loss: 11.5658 - acc: 0.1220 - val_loss: 11.5268 - val_acc: 0.0940\n",
      "Epoch 29/50\n",
      "1000/1000 [==============================] - 0s 31us/step - loss: 11.5611 - acc: 0.1230 - val_loss: 11.5229 - val_acc: 0.0970\n",
      "Epoch 30/50\n",
      "1000/1000 [==============================] - 0s 31us/step - loss: 11.5575 - acc: 0.1220 - val_loss: 11.5211 - val_acc: 0.0970\n",
      "Epoch 31/50\n",
      "1000/1000 [==============================] - 0s 47us/step - loss: 11.5538 - acc: 0.1240 - val_loss: 11.5158 - val_acc: 0.0910\n",
      "Epoch 32/50\n",
      "1000/1000 [==============================] - 0s 47us/step - loss: 11.5499 - acc: 0.1190 - val_loss: 11.5155 - val_acc: 0.0930\n",
      "Epoch 33/50\n",
      "1000/1000 [==============================] - 0s 31us/step - loss: 11.5469 - acc: 0.1220 - val_loss: 11.5119 - val_acc: 0.0920\n",
      "Epoch 34/50\n",
      "1000/1000 [==============================] - 0s 47us/step - loss: 11.5442 - acc: 0.1280 - val_loss: 11.5089 - val_acc: 0.0870\n",
      "Epoch 35/50\n",
      "1000/1000 [==============================] - 0s 31us/step - loss: 11.5410 - acc: 0.1260 - val_loss: 11.5056 - val_acc: 0.0930\n",
      "Epoch 36/50\n",
      "1000/1000 [==============================] - 0s 47us/step - loss: 11.5379 - acc: 0.1330 - val_loss: 11.5050 - val_acc: 0.0980\n",
      "Epoch 37/50\n",
      "1000/1000 [==============================] - 0s 34us/step - loss: 11.5358 - acc: 0.1210 - val_loss: 11.5038 - val_acc: 0.0930\n",
      "Epoch 38/50\n",
      "1000/1000 [==============================] - 0s 47us/step - loss: 11.5338 - acc: 0.1270 - val_loss: 11.5009 - val_acc: 0.1010\n",
      "Epoch 39/50\n",
      "1000/1000 [==============================] - 0s 31us/step - loss: 11.5315 - acc: 0.1320 - val_loss: 11.4995 - val_acc: 0.1060\n",
      "Epoch 40/50\n",
      "1000/1000 [==============================] - 0s 47us/step - loss: 11.5298 - acc: 0.1310 - val_loss: 11.5005 - val_acc: 0.0960\n",
      "Epoch 41/50\n",
      "1000/1000 [==============================] - 0s 31us/step - loss: 11.5271 - acc: 0.1390 - val_loss: 11.4973 - val_acc: 0.1030\n",
      "Epoch 42/50\n",
      "1000/1000 [==============================] - 0s 31us/step - loss: 11.5272 - acc: 0.1350 - val_loss: 11.4948 - val_acc: 0.0980\n",
      "Epoch 43/50\n",
      "1000/1000 [==============================] - 0s 47us/step - loss: 11.5248 - acc: 0.1350 - val_loss: 11.4932 - val_acc: 0.1020\n",
      "Epoch 44/50\n",
      "1000/1000 [==============================] - 0s 43us/step - loss: 11.5234 - acc: 0.1400 - val_loss: 11.4928 - val_acc: 0.0970\n",
      "Epoch 45/50\n",
      "1000/1000 [==============================] - 0s 31us/step - loss: 11.5221 - acc: 0.1340 - val_loss: 11.4928 - val_acc: 0.1040\n",
      "Epoch 46/50\n",
      "1000/1000 [==============================] - 0s 31us/step - loss: 11.5214 - acc: 0.1450 - val_loss: 11.4908 - val_acc: 0.1000\n",
      "Epoch 47/50\n",
      "1000/1000 [==============================] - 0s 31us/step - loss: 11.5203 - acc: 0.1340 - val_loss: 11.4907 - val_acc: 0.0940\n",
      "Epoch 48/50\n",
      "1000/1000 [==============================] - 0s 31us/step - loss: 11.5195 - acc: 0.1380 - val_loss: 11.4890 - val_acc: 0.0950\n",
      "Epoch 49/50\n",
      "1000/1000 [==============================] - 0s 47us/step - loss: 11.5185 - acc: 0.1370 - val_loss: 11.4890 - val_acc: 0.1020\n",
      "Epoch 50/50\n",
      "1000/1000 [==============================] - 0s 31us/step - loss: 11.5172 - acc: 0.1440 - val_loss: 11.4888 - val_acc: 0.1010\n"
     ]
    },
    {
     "data": {
      "text/plain": [
       "<tensorflow.python.keras.callbacks.History at 0x1b4c9d9a400>"
      ]
     },
     "execution_count": 14,
     "metadata": {},
     "output_type": "execute_result"
    }
   ],
   "source": [
    "#Callback\n",
    "callbacks = [\n",
    "    keras.callbacks.EarlyStopping(patience=2, monitor='val_loss'),\n",
    "    keras.callbacks.TensorBoard(log_dir='./logs')\n",
    "]\n",
    "\n",
    "model.fit(\n",
    "    data,\n",
    "    labels,\n",
    "    epochs=50,\n",
    "    batch_size=32,\n",
    "    callbacks=callbacks,\n",
    "    validation_data=(val_data, val_labels)\n",
    ")"
   ]
  },
  {
   "cell_type": "code",
   "execution_count": 15,
   "metadata": {},
   "outputs": [
    {
     "data": {
      "text/plain": [
       "<tensorflow.python.training.checkpointable.util.CheckpointLoadStatus at 0x1b4cb1e8390>"
      ]
     },
     "execution_count": 15,
     "metadata": {},
     "output_type": "execute_result"
    },
    {
     "name": "stdout",
     "output_type": "stream",
     "text": [
      "_________________________________________________________________\n",
      "Layer (type)                 Output Shape              Param #   \n",
      "=================================================================\n",
      "dense_14 (Dense)             (None, 64)                2112      \n",
      "_________________________________________________________________\n",
      "dense_15 (Dense)             (None, 64)                4160      \n",
      "_________________________________________________________________\n",
      "dense_16 (Dense)             (None, 10)                650       \n",
      "=================================================================\n",
      "Total params: 6,922\n",
      "Trainable params: 6,922\n",
      "Non-trainable params: 0\n",
      "_________________________________________________________________\n",
      "_________________________________________________________________\n",
      "Layer (type)                 Output Shape              Param #   \n",
      "=================================================================\n",
      "dense_14 (Dense)             (None, 64)                2112      \n",
      "_________________________________________________________________\n",
      "dense_15 (Dense)             (None, 64)                4160      \n",
      "_________________________________________________________________\n",
      "dense_16 (Dense)             (None, 10)                650       \n",
      "=================================================================\n",
      "Total params: 6,922\n",
      "Trainable params: 6,922\n",
      "Non-trainable params: 0\n",
      "_________________________________________________________________\n"
     ]
    }
   ],
   "source": [
    "#Create sample model\n",
    "model = keras.Sequential([\n",
    "    keras.layers.Dense(64, activation='relu', input_shape=(32,)),\n",
    "    keras.layers.Dense(64, activation='relu'),\n",
    "    keras.layers.Dense(10, activation='softmax')\n",
    "])\n",
    "\n",
    "model.compile(\n",
    "    optimizer='rmsprop',\n",
    "    loss='categorical_crossentropy',\n",
    "    metrics=['accuracy']\n",
    ")\n",
    "\n",
    "#Save model weights by checkpoint\n",
    "model.save_weights('./model/my_model_weight')\n",
    "\n",
    "#Restore model\n",
    "model.load_weights('./model/my_model_weight')\n",
    "\n",
    "#Save model weights in HDF5 format\n",
    "model.save_weights('./model/my_model_weight.h5', save_format='h5')\n",
    "\n",
    "#Restore model\n",
    "model.load_weights('./model/my_model_weight.h5')\n",
    "\n",
    "model.summary()\n",
    "\n",
    "#Save entire model to HDF50\n",
    "model.save('./model/my_model.h5')\n",
    "\n",
    "#Recreate\n",
    "model = keras.models.load_model('./model/my_model.h5')\n",
    "\n",
    "model.summary()"
   ]
  },
  {
   "cell_type": "code",
   "execution_count": 16,
   "metadata": {},
   "outputs": [
    {
     "name": "stdout",
     "output_type": "stream",
     "text": [
      "INFO:tensorflow:Using the Keras model provided.\n",
      "INFO:tensorflow:Using default config.\n",
      "WARNING:tensorflow:Using temporary folder as model directory: C:\\Users\\yuranan\\AppData\\Local\\Temp\\tmppvaa0i7r\n",
      "INFO:tensorflow:Using config: {'_evaluation_master': '', '_keep_checkpoint_every_n_hours': 10000, '_keep_checkpoint_max': 5, '_num_worker_replicas': 1, '_log_step_count_steps': 100, '_save_checkpoints_steps': None, '_is_chief': True, '_num_ps_replicas': 0, '_save_summary_steps': 100, '_tf_random_seed': None, '_save_checkpoints_secs': 600, '_train_distribute': None, '_cluster_spec': <tensorflow.python.training.server_lib.ClusterSpec object at 0x000001B4CB221BA8>, '_model_dir': 'C:\\\\Users\\\\yuranan\\\\AppData\\\\Local\\\\Temp\\\\tmppvaa0i7r', '_task_type': 'worker', '_service': None, '_global_id_in_cluster': 0, '_master': '', '_device_fn': None, '_session_config': None, '_task_id': 0}\n"
     ]
    }
   ],
   "source": [
    "#Keras with Estimators\n",
    "medoel = keras.Sequential([\n",
    "    keras.layers.Dense(10, activation='softmax'),\n",
    "    keras.layers.Dense(10, activation='softmax')    \n",
    "])\n",
    "\n",
    "model.compile(\n",
    "    optimizer=tf.train.RMSPropOptimizer(0.001),\n",
    "    loss='categorical_crossentropy',\n",
    "    metrics=['accuracy']\n",
    ")\n",
    "\n",
    "estimator = keras.estimator.model_to_estimator(model)"
   ]
  },
  {
   "cell_type": "code",
   "execution_count": 17,
   "metadata": {},
   "outputs": [
    {
     "name": "stdout",
     "output_type": "stream",
     "text": [
      "_________________________________________________________________\n",
      "Layer (type)                 Output Shape              Param #   \n",
      "=================================================================\n",
      "dense_19 (Dense)             (None, 16)                176       \n",
      "_________________________________________________________________\n",
      "dense_20 (Dense)             (None, 1)                 17        \n",
      "=================================================================\n",
      "Total params: 193\n",
      "Trainable params: 193\n",
      "Non-trainable params: 0\n",
      "_________________________________________________________________\n"
     ]
    }
   ],
   "source": [
    "#Sample model\n",
    "model = keras.Sequential([\n",
    "    keras.layers.Dense(16, activation='relu', input_shape=(10, )),\n",
    "    keras.layers.Dense(1, activation='sigmoid')    \n",
    "])\n",
    "\n",
    "model.compile(\n",
    "    optimizer=tf.train.GradientDescentOptimizer(0.2),\n",
    "    loss='binary_crossentropy'\n",
    ")\n",
    "\n",
    "model.summary()"
   ]
  },
  {
   "cell_type": "markdown",
   "metadata": {},
   "source": [
    "#Define input pipeline\n",
    "def input_fn():\n",
    "    x = np.random.random((1024, 10))\n",
    "    y = np.random.random(2, size=(1024, 1))\n",
    "    x = tf.cast(x, tf.float32)\n",
    "    dataset = ft.data.Dataset.from_tensor_slices((x, y))\n",
    "    dataset = dataset.repeat(10)\n",
    "    dataset = dataset.batch(32)\n",
    "    return dataset\n",
    "\n",
    "#Multiple GPUs on a single machine\n",
    "strategy = tf.contrib.distribute.MirroredStrategy()\n",
    "config = tf.estimator.RunConfig(train_distribute=strategy)\n",
    "\n",
    "keras_estimator = keras.estimator.model_to_estimator(\n",
    "    keras_model=model,\n",
    "    config=config,\n",
    "    model_dir='./tmp/model_dir'\n",
    ")\n",
    "\n",
    "keras_estimator.train(input_fn=input_fn, steps=10)"
   ]
  }
 ],
 "metadata": {
  "kernelspec": {
   "display_name": "Python 3",
   "language": "python",
   "name": "python3"
  },
  "language_info": {
   "codemirror_mode": {
    "name": "ipython",
    "version": 3
   },
   "file_extension": ".py",
   "mimetype": "text/x-python",
   "name": "python",
   "nbconvert_exporter": "python",
   "pygments_lexer": "ipython3",
   "version": "3.5.5"
  }
 },
 "nbformat": 4,
 "nbformat_minor": 2
}
