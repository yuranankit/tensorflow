{
  "cells": [
    {
      "metadata": {
        "_uuid": "8f2839f25d086af736a60e9eeb907d3b93b6e0e5",
        "_cell_guid": "b1076dfc-b9ad-4769-8c92-a6c4dae69d19",
        "trusted": true
      },
      "cell_type": "code",
      "source": "import tensorflow as tf\nimport numpy as np\n\ntf.enable_eager_execution()",
      "execution_count": 1,
      "outputs": [
        {
          "output_type": "stream",
          "text": "/opt/conda/lib/python3.6/site-packages/h5py/__init__.py:36: FutureWarning: Conversion of the second argument of issubdtype from `float` to `np.floating` is deprecated. In future, it will be treated as `np.float64 == np.dtype(float).type`.\n  from ._conv import register_converters as _register_converters\n",
          "name": "stderr"
        },
        {
          "output_type": "stream",
          "text": "[]\n",
          "name": "stdout"
        }
      ]
    },
    {
      "metadata": {
        "_cell_guid": "79c7e3d0-c299-4dcb-8224-4455121ee9b0",
        "_uuid": "d629ff2d2480ee46fbb7e2d37f6b5fab8052498a",
        "trusted": true
      },
      "cell_type": "code",
      "source": "#Tensor example\nprint(tf.add(1, 2))\nprint(tf.add([1, 2], [3, 4]))\nprint(tf.square(5))\nprint(tf.reduce_sum([1, 2, 5]))\nprint(tf.encode_base64(\"hello worlds\"))\nprint(tf.square(2) + tf.square(3))\nx = tf.matmul([[5]], [[2,3]])\nprint(x)",
      "execution_count": 2,
      "outputs": [
        {
          "output_type": "stream",
          "text": "True\n",
          "name": "stdout"
        }
      ]
    },
    {
      "metadata": {
        "trusted": true,
        "_uuid": "6ec6009f853df4a05ab58c1c971fe2e0b8842a6d"
      },
      "cell_type": "code",
      "source": "#Conversion tensor <-> ndarray\nndarray = np.ones([3, 3])\nprint(ndarray)\ntensor = tf.multiply(ndarray, 4)\nprint(tensor)\nprint(np.add(tensor, 1))\nprint(tensor.numpy())",
      "execution_count": 3,
      "outputs": [
        {
          "output_type": "stream",
          "text": "[[1. 1. 1.]\n [1. 1. 1.]\n [1. 1. 1.]]\ntf.Tensor(\n[[4. 4. 4.]\n [4. 4. 4.]\n [4. 4. 4.]], shape=(3, 3), dtype=float64)\n[[5. 5. 5.]\n [5. 5. 5.]\n [5. 5. 5.]]\n[[4. 4. 4.]\n [4. 4. 4.]\n [4. 4. 4.]]\n",
          "name": "stdout"
        }
      ]
    },
    {
      "metadata": {
        "trusted": true,
        "_uuid": "5e201fdc7509f84f8dc28fbe91d70f4de4580693"
      },
      "cell_type": "code",
      "source": "x = tf.random_uniform([3, 3])\nprint(\"Is GPU available:\"),\nprint(tf.test.is_gpu_available());\n\nprint(\"Where is x storage:\"),\nprint(x.device);",
      "execution_count": 4,
      "outputs": [
        {
          "output_type": "stream",
          "text": "Is GPU available:\nTrue\nWhere is x storage:\n/job:localhost/replica:0/task:0/device:CPU:0\n",
          "name": "stdout"
        }
      ]
    },
    {
      "metadata": {
        "trusted": true,
        "_uuid": "eceee1380b88d389670f81ec626742ae1d005e56"
      },
      "cell_type": "code",
      "source": "def time_matmul(x):\n    %timeit tf.matmul(x, x)\n    \n#Execute in CPU\nprint(\"Matmul in CPU\")\nwith tf.device(\"CPU:0\"):\n    x = tf.random_uniform([1000,1000])\n    assert x.device.endswith(\"CPU:0\")\n    time_matmul(x)\n\n#Execute in GPU\nprint(\"Matmul in GPU\")\nwith tf.device(\"GPU:0\"):\n    x = tf.random_uniform([1000, 1000])\n    assert x.device.endswith(\"GPU:0\")\n    time_matmul(x)",
      "execution_count": 7,
      "outputs": [
        {
          "output_type": "stream",
          "text": "Matmul in CPU\n27.4 ms ± 299 µs per loop (mean ± std. dev. of 7 runs, 100 loops each)\nMatmul in GPU\n987 µs ± 24.9 µs per loop (mean ± std. dev. of 7 runs, 1000 loops each)\n",
          "name": "stdout"
        }
      ]
    },
    {
      "metadata": {
        "trusted": true,
        "collapsed": true,
        "_uuid": "89f523668bf7d6629cc865cdd3d4c1b07ac460dc"
      },
      "cell_type": "code",
      "source": "#Create source dataset\nds_tensors = tf.data.Dataset.from_tensor_slices([1,2,3,4,5,6])\n\nimport tempfile\n_, filename = tempfile.mkstemp()\n\nwith open(filename, 'w') as f:\n    f.write(\"\"\"Line1\n    Line2\n    Line3\n    \"\"\")\n\nds_file = tf.data.TextLineDataset(filename)",
      "execution_count": 8,
      "outputs": []
    },
    {
      "metadata": {
        "trusted": true,
        "collapsed": true,
        "_uuid": "a14efa9389d02aded41627e03e87d80a8b45c13b"
      },
      "cell_type": "code",
      "source": "#Transform data\nds_tensors = ds_tensors.map(tf.square).shuffle(2).batch(2)\nds_file = ds_file.batch(2)",
      "execution_count": 9,
      "outputs": []
    },
    {
      "metadata": {
        "trusted": true,
        "_uuid": "678577955a8666f64a3fba9241f300db4d325789"
      },
      "cell_type": "code",
      "source": "#Eager execution with Dataset\nprint('Elements  of ds_tensors:')\nfor x in ds_tensors:\n    print(x)\n    \nprint('\\nElements in ds_file:')\nfor x in ds_file:\n    print(x)",
      "execution_count": 10,
      "outputs": [
        {
          "output_type": "stream",
          "text": "Elements  of ds_tensors:\ntf.Tensor([4 1], shape=(2,), dtype=int32)\ntf.Tensor([16 25], shape=(2,), dtype=int32)\ntf.Tensor([36  9], shape=(2,), dtype=int32)\n\nElements in ds_file:\ntf.Tensor([b'Line1' b'    Line2'], shape=(2,), dtype=string)\ntf.Tensor([b'    Line3' b'    '], shape=(2,), dtype=string)\n",
          "name": "stdout"
        }
      ]
    }
  ],
  "metadata": {
    "kernelspec": {
      "display_name": "Python 3",
      "language": "python",
      "name": "python3"
    },
    "language_info": {
      "name": "python",
      "version": "3.6.4",
      "mimetype": "text/x-python",
      "codemirror_mode": {
        "name": "ipython",
        "version": 3
      },
      "pygments_lexer": "ipython3",
      "nbconvert_exporter": "python",
      "file_extension": ".py"
    }
  },
  "nbformat": 4,
  "nbformat_minor": 1
}